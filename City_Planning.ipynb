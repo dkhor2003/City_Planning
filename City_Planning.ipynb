{
 "cells": [
  {
   "cell_type": "code",
   "execution_count": 41,
   "id": "8f7730d7",
   "metadata": {},
   "outputs": [],
   "source": [
    "     \n",
    "class MinHeap:\n",
    "    \n",
    "    def __init__(self):\n",
    "        self.nodes = [0]\n",
    "        \n",
    "    def addNode(self, vertex):\n",
    "        self.nodes.append(vertex)\n",
    "        self.heapifyUp(len(self.nodes) - 1)\n",
    "    \n",
    "    def makeHeap(self):\n",
    "        count = len(self.nodes) - 1\n",
    "        for i in range(count, 1, -1):\n",
    "            self.heapifyUp(i)\n",
    "                 \n",
    "    def heapifyUp(self, index):\n",
    "        if index == 1:\n",
    "            return\n",
    "        if self.nodes[index].getEstimatedDistance() < self.nodes[index//2].getEstimatedDistance():\n",
    "            self.swapValue(index, index//2)\n",
    "            self.heapifyUp(index//2)\n",
    "        else:\n",
    "            return\n",
    "            \n",
    "        \n",
    "    def heapifyDown(self, index):\n",
    "        if self.isOutOfBound(index):\n",
    "            return\n",
    "        if self.isOutOfBound(2 * index):\n",
    "            return\n",
    "        if self.isOutOfBound(2 * index + 1):\n",
    "            j = 2 * index\n",
    "        else:\n",
    "            if self.nodes[2 * index + 1].getEstimatedDistance() < self.nodes[2 * index].getEstimatedDistance():\n",
    "                j = 2 * index + 1\n",
    "            else:\n",
    "                j = 2 * index\n",
    "        if self.nodes[index].getEstimatedDistance() < self.nodes[j].getEstimatedDistance():\n",
    "            return\n",
    "        self.swapValue(index, j)\n",
    "        self.heapifyDown(j)\n",
    "            \n",
    "        \n",
    "    def retrieveMin(self):\n",
    "        if len(self.nodes) > 0:\n",
    "            low = self.nodes[1]\n",
    "            self.swapValue(1, len(self.nodes) - 1)\n",
    "            del self.nodes[-1]\n",
    "            self.heapifyDown(1)\n",
    "            return low\n",
    "        else:\n",
    "            return None\n",
    "        \n",
    "    def getMin(self):\n",
    "        if len(self.nodes) > 0:\n",
    "            return self.nodes[1]\n",
    "        return None\n",
    "    \n",
    "    def swapValue(self, pos1, pos2):\n",
    "        if not (self.isOutOfBound(pos1) and self.isOutOfBound(pos2)):\n",
    "            temp = self.nodes[pos1]\n",
    "            self.nodes[pos1] = self.nodes[pos2]\n",
    "            self.nodes[pos2] = temp\n",
    "    \n",
    "    def inHeap(self, vertex):\n",
    "        if vertex in self.nodes:\n",
    "            return self.nodes.index(vertex)\n",
    "        else:\n",
    "            return None\n",
    "        \n",
    "    def isEmpty(self):\n",
    "        return len(self.nodes) == 1\n",
    "    \n",
    "    def isOutOfBound(self, index):\n",
    "        if index >= len(self.nodes) or index < 1:\n",
    "            return True\n",
    "        else:\n",
    "            return False\n",
    "        \n",
    "    def output(self):\n",
    "        for i in range(1, len(self.nodes)):\n",
    "            print(self.nodes[i].getLabel() + \",\" + str(self.nodes[i].getEstimatedDistance()), end = \" \")\n",
    "        print()\n",
    "           \n",
    "    \n",
    "import math\n",
    "\n",
    "class Vertex:\n",
    "    \n",
    "    def __init__(self, label):\n",
    "        self.label = label\n",
    "        self.neighbors = {}\n",
    "        self.parent = []\n",
    "        self.estimatedDist = 0\n",
    "        self.location = (0,0)\n",
    "        self.pathNumber = 0\n",
    "    \n",
    "    def getLabel(self):\n",
    "        return self.label\n",
    "    \n",
    "    def getNeighbors(self):\n",
    "        return self.neighbors\n",
    "    \n",
    "    def addEdge(self, weight, vertex):\n",
    "        if weight < 0:\n",
    "            return\n",
    "        if vertex not in self.neighbors:\n",
    "            self.neighbors[vertex] = weight\n",
    "            vertex.neighbors[self] = weight\n",
    "    \n",
    "    def getParent(self):\n",
    "        return self.parent\n",
    "    \n",
    "    def resetParent(self):\n",
    "        self.parent.clear()\n",
    "    \n",
    "    def addParent(self, parent):\n",
    "        self.parent.append(parent)\n",
    "        \n",
    "    def getEstimatedDistance(self):\n",
    "        return self.estimatedDist\n",
    "    \n",
    "    def setEstimatedDistance(self, value):\n",
    "        self.estimatedDist = value\n",
    "        \n",
    "    def getEdgeWeight(self, vertex):\n",
    "        if vertex not in self.neighbors:\n",
    "            return 0\n",
    "        else:\n",
    "            return self.neighbors[vertex]\n",
    "        \n",
    "    def getLocation(self):\n",
    "        return self.location\n",
    "    \n",
    "    def setLocation(self, coordinate):\n",
    "        self.location = coordinate\n",
    "        \n",
    "    def getPathNumber(self):\n",
    "        return self.pathNumber\n",
    "    \n",
    "    def setPathNumber(self, value):\n",
    "        self.pathNumber = value\n",
    "        \n",
    "    def getDistance(self, vertex):\n",
    "        coor1 = self.location\n",
    "        coor2 = vertex.getLocation()\n",
    "        return math.sqrt(pow(coor1[0]-coor2[0],2) + pow(coor1[1]-coor2[1],2))\n",
    "\n",
    "class CityPlan:\n",
    "    \n",
    "    def __init__(self):\n",
    "        self.graph = []\n",
    "        self.edgeNum = 0\n",
    "    \n",
    "    def getGraph(self):\n",
    "        return self.graph\n",
    "    \n",
    "    def getVertexIndex(self, label):\n",
    "        for index in range(len(self.graph)):\n",
    "            if self.graph[index].getLabel() == label:\n",
    "                return index\n",
    "        return None\n",
    "            \n",
    "    def readInput(self, fileName):\n",
    "        with open(fileName, 'r') as file:\n",
    "            transition = False\n",
    "            count = 0\n",
    "            for lines in file:\n",
    "                lines = lines.split()\n",
    "                if transition == False:\n",
    "                    if len(lines) == 0:\n",
    "                        transition = True\n",
    "                        continue\n",
    "                    elif len(lines) == 2:\n",
    "                        for number in range(int(lines[0])):\n",
    "                            self.graph.append(Vertex(number))\n",
    "                        self.edgeNum = int(lines[1])\n",
    "                    elif len(lines) == 3:\n",
    "                        label = int(lines[0])\n",
    "                        index = self.getVertexIndex(label)\n",
    "                        self.graph[index].setLocation((int(lines[1]), int(lines[2])))\n",
    "                else:\n",
    "                    count += 1\n",
    "                    if count > self.edgeNum:\n",
    "                        break\n",
    "                    start = self.graph[self.getVertexIndex(int(lines[0]))]\n",
    "                    end = self.graph[self.getVertexIndex(int(lines[1]))]\n",
    "                    distance = start.getDistance(end)\n",
    "                    start.addEdge(distance, end)\n",
    "    \n",
    "    def Dijkstra(self, sourceVertex):\n",
    "        for vertices in self.graph:\n",
    "            if vertices.getLabel() == sourceVertex:\n",
    "                vertices.setEstimatedDistance(0)\n",
    "                vertices.setPathNumber(1)\n",
    "            else:\n",
    "                vertices.setEstimatedDistance(math.inf)\n",
    "        minHeap = MinHeap()        \n",
    "        for element in self.graph:\n",
    "            minHeap.addNode(element)\n",
    "        while not minHeap.isEmpty():\n",
    "            top = minHeap.retrieveMin()\n",
    "            adjacent = top.getNeighbors()\n",
    "            for neighbor in adjacent:\n",
    "                if minHeap.inHeap(neighbor) != None:\n",
    "                    if neighbor.getEstimatedDistance() > top.getEstimatedDistance() + top.getEdgeWeight(neighbor):\n",
    "                        neighbor.setEstimatedDistance(top.getEstimatedDistance() + top.getEdgeWeight(neighbor))\n",
    "                        minHeap.heapifyUp(minHeap.inHeap(neighbor))\n",
    "                        neighbor.resetParent()\n",
    "                        neighbor.addParent(top)\n",
    "                        neighbor.setPathNumber(top.getPathNumber())\n",
    "                    elif neighbor.getEstimatedDistance() == top.getEstimatedDistance() + top.getEdgeWeight(neighbor):\n",
    "                        neighbor.addParent(top)\n",
    "                        neighbor.setPathNumber(neighbor.getPathNumber() + top.getPathNumber())\n",
    "                 \n",
    "    def DijkstraVariant(self, sourceVertex, endVertex, A, B):\n",
    "        variant = 0\n",
    "        end = self.graph[self.getVertexIndex(endVertex)]\n",
    "        for vertices in self.graph:\n",
    "            if vertices.getLabel() == sourceVertex:\n",
    "                vertices.setEstimatedDistance(0)\n",
    "                vertices.setPathNumber(1)\n",
    "            else:\n",
    "                vertices.setEstimatedDistance(math.inf)\n",
    "        minHeap = MinHeap()        \n",
    "        for element in self.graph:\n",
    "            minHeap.addNode(element)\n",
    "        while not minHeap.isEmpty():\n",
    "            top = minHeap.retrieveMin()\n",
    "            adjacent = top.getNeighbors()\n",
    "            for neighbor in adjacent:\n",
    "                if minHeap.inHeap(neighbor) != None:\n",
    "                    variant = (A * (top.getEstimatedDistance() + top.getEdgeWeight(neighbor))) + (B * (neighbor.getDistance(end) - top.getDistance(end)))\n",
    "                    if neighbor.getEstimatedDistance() > variant:\n",
    "                        neighbor.setEstimatedDistance(variant)\n",
    "                        minHeap.heapifyUp(minHeap.inHeap(neighbor))\n",
    "                        neighbor.resetParent()\n",
    "                        neighbor.addParent(top)\n",
    "                        neighbor.setPathNumber(top.getPathNumber())\n",
    "                    elif neighbor.getEstimatedDistance() == variant:\n",
    "                        neighbor.addParent(top)\n",
    "                        neighbor.setPathNumber(neighbor.getPathNumber() + top.getPathNumber())\n",
    "                        \n",
    "    def shortestPathDistance(self, sourceLabel):\n",
    "        self.Dijkstra(sourceLabel)\n",
    "        shortestDistance = []\n",
    "        for vertex in self.graph:\n",
    "            shortestDistance.append(round(vertex.getEstimatedDistance()))\n",
    "        return shortestDistance\n",
    "    \n",
    "    def addNode(self, label):\n",
    "        self.graph.append(Vertex(label))\n",
    "        \n",
    "    def addEdges(self, source, end, weight):\n",
    "        self.graph[self.getVertexIndex(source)].addEdge(weight, self.graph[self.getVertexIndex(end)])\n",
    "        \n",
    "    def noOfShortestPaths(self, start, end):\n",
    "        self.Dijkstra(start)\n",
    "        return self.graph[self.getVertexIndex(end)].getPathNumber()\n",
    "    \n",
    "    def fromSrcToDest(self, source, end, A, B):\n",
    "        self.DijkstraVariant(source, end, A, B)\n",
    "        path = []\n",
    "        start = self.graph[self.getVertexIndex(source)]\n",
    "        end = self.graph[self.getVertexIndex(end)]\n",
    "        path.append(end.getLabel())\n",
    "        while end != start:\n",
    "            path.append(end.getParent()[0].getLabel())\n",
    "            end = end.getParent()[0]\n",
    "        path.reverse()\n",
    "        return path\n",
    "    \n",
    "    def fromSrcToDestVia(self, source, end, stops, A, B):\n",
    "        if len(stops) == 0 or stops == None:\n",
    "            return self.fromSrcToDest(source, end, A, B)\n",
    "        start = source\n",
    "        dest = stops.pop(0)\n",
    "        path = self.fromSrcToDest(start, dest, A, B)\n",
    "        for i in range(len(stops)):\n",
    "            start = dest\n",
    "            dest = stops.pop(0)\n",
    "            path += self.fromSrcToDest(start, dest, A, B)[1::]\n",
    "        start = dest\n",
    "        return path + self.fromSrcToDest(start, end, A, B)[1::]\n",
    "            \n",
    "    \n",
    "    def primAlgo(self, source):\n",
    "        for vertices in self.graph:\n",
    "            if vertices.getLabel() == source:\n",
    "                vertices.setEstimatedDistance(0)\n",
    "                vertices.addParent(vertices)\n",
    "            else:\n",
    "                vertices.setEstimatedDistance(math.inf)\n",
    "        minHeap = MinHeap()        \n",
    "        for element in self.graph:\n",
    "            minHeap.addNode(element)\n",
    "        while not minHeap.isEmpty():\n",
    "            top = minHeap.retrieveMin()\n",
    "            adjacent = top.getNeighbors()\n",
    "            for neighbor in adjacent:\n",
    "                if minHeap.inHeap(neighbor) != None:\n",
    "                    if neighbor.getEstimatedDistance() > top.getEdgeWeight(neighbor):\n",
    "                        neighbor.setEstimatedDistance(top.getEdgeWeight(neighbor))\n",
    "                        neighbor.resetParent()\n",
    "                        neighbor.addParent(top)\n",
    "                        minHeap.heapifyUp(minHeap.inHeap(neighbor))\n",
    "                        \n",
    "    def minCostReachabilityFromSrc(self, source):\n",
    "        self.primAlgo(source)\n",
    "        array = []\n",
    "        for element in self.graph:\n",
    "            if len(element.getParent()) == 0:\n",
    "                array.append(-1)\n",
    "            else:\n",
    "                array.append(element.getParent()[0].getLabel())\n",
    "        return array\n",
    "        \n",
    "    def minCostOfReachabilityFromSrc(self, source):\n",
    "        self.primAlgo(source)\n",
    "        totalMinCost = 0\n",
    "        for element in self.graph:\n",
    "            if len(element.getParent()) != 0:\n",
    "                parent = element.getParent()[0]\n",
    "                totalMinCost += element.getEdgeWeight(parent)\n",
    "        return round(totalMinCost)\n",
    "        \n",
    "    def isFullReachableFromSrc(self, source):\n",
    "        reachabilityTree = self.minCostReachabilityFromSrc(source)\n",
    "        if -1 in reachabilityTree:\n",
    "            return False\n",
    "        else:\n",
    "            return True\n",
    "        "
   ]
  },
  {
   "cell_type": "code",
   "execution_count": 92,
   "id": "141dc01e",
   "metadata": {},
   "outputs": [
    {
     "name": "stdout",
     "output_type": "stream",
     "text": [
      "[1, 0, 5, 7, 8]\n"
     ]
    },
    {
     "data": {
      "text/plain": [
       "'\\nfor element in plan.getGraph():\\n    print(str(element.getLabel()) + \": \" + str(element.getEstimatedDistance()))\\n    p = element\\n    print(\"\\t\", end = \"\")\\n    while p != None:\\n        print(p.getLabel(), end = \" \")\\n        p = p.getParent()\\n    print()\\n'"
      ]
     },
     "execution_count": 92,
     "metadata": {},
     "output_type": "execute_result"
    }
   ],
   "source": [
    "plan = CityPlan()\n",
    "plan.readInput(\"CityPlan1.txt\")\n",
    "print(plan.fromSrcToDest(1,8,1,0))\n",
    "\"\"\"\n",
    "for element in plan.getGraph():\n",
    "    print(str(element.getLabel()) + \": \" + str(element.getEstimatedDistance()))\n",
    "    p = element\n",
    "    print(\"\\t\", end = \"\")\n",
    "    while p != None:\n",
    "        print(p.getLabel(), end = \" \")\n",
    "        p = p.getParent()\n",
    "    print()\n",
    "\"\"\""
   ]
  },
  {
   "cell_type": "code",
   "execution_count": 13,
   "id": "eac5cfaa",
   "metadata": {},
   "outputs": [
    {
     "name": "stdout",
     "output_type": "stream",
     "text": [
      "[0, 4, 3]\n"
     ]
    }
   ],
   "source": [
    "plan = CityPlan()\n",
    "plan.readInput(\"CityPlan0.txt\")\n",
    "print(plan.fromSrcToDest(0,3,0,1))"
   ]
  },
  {
   "cell_type": "code",
   "execution_count": 82,
   "id": "5df432bf",
   "metadata": {},
   "outputs": [
    {
     "name": "stdout",
     "output_type": "stream",
     "text": [
      "[38.2842712474619, 48.2842712474619, 10.0, 0, 14.142135623730951, 24.14213562373095, 29.14213562373095, 80.62257748298549, 85.62257748298549, inf]\n"
     ]
    }
   ],
   "source": [
    "plan = CityPlan()\n",
    "plan.readInput(\"CityPlan1.txt\")\n",
    "print(plan.shortestPathDistance(3))"
   ]
  },
  {
   "cell_type": "code",
   "execution_count": 16,
   "id": "7d79ba9c",
   "metadata": {},
   "outputs": [
    {
     "name": "stdout",
     "output_type": "stream",
     "text": [
      "2\n"
     ]
    }
   ],
   "source": [
    "plan = CityPlan()\n",
    "plan.readInput(\"CityPlan1.txt\")\n",
    "print(plan.noOfShortestPaths(3,6))"
   ]
  },
  {
   "cell_type": "code",
   "execution_count": 18,
   "id": "78f9e8f9",
   "metadata": {},
   "outputs": [
    {
     "name": "stdout",
     "output_type": "stream",
     "text": [
      "4\n"
     ]
    }
   ],
   "source": [
    "plan = CityPlan()\n",
    "plan.addNode(0)\n",
    "plan.addNode(1)\n",
    "plan.addNode(2)\n",
    "plan.addNode(3)\n",
    "plan.addNode(4)\n",
    "plan.addNode(5)\n",
    "plan.addNode(6)\n",
    "plan.addEdges(0,1,1)\n",
    "plan.addEdges(0,2,1)\n",
    "plan.addEdges(1,3,1)\n",
    "plan.addEdges(2,3,1)\n",
    "plan.addEdges(3,4,1)\n",
    "plan.addEdges(3,5,1)\n",
    "plan.addEdges(4,6,1)\n",
    "plan.addEdges(5,6,1)\n",
    "print(plan.noOfShortestPaths(0,6))"
   ]
  },
  {
   "cell_type": "code",
   "execution_count": 19,
   "id": "ff1b8583",
   "metadata": {},
   "outputs": [
    {
     "name": "stdout",
     "output_type": "stream",
     "text": [
      "[5, 0, 3, 3, 2, 4, 5, 4, 7, -1]\n"
     ]
    }
   ],
   "source": [
    "plan = CityPlan()\n",
    "plan.readInput(\"CityPlan1.txt\")\n",
    "print(plan.minCostReachabilityFromSrc(3))"
   ]
  },
  {
   "cell_type": "code",
   "execution_count": 20,
   "id": "cf46abd6",
   "metadata": {},
   "outputs": [
    {
     "name": "stdout",
     "output_type": "stream",
     "text": [
      "134.14213562373095\n"
     ]
    }
   ],
   "source": [
    "plan = CityPlan()\n",
    "plan.readInput(\"CityPlan1.txt\")\n",
    "print(plan.minCostOfReachabilityFromSrc(3))"
   ]
  },
  {
   "cell_type": "code",
   "execution_count": 21,
   "id": "53fb931f",
   "metadata": {},
   "outputs": [
    {
     "name": "stdout",
     "output_type": "stream",
     "text": [
      "False\n"
     ]
    }
   ],
   "source": [
    "plan = CityPlan()\n",
    "plan.readInput(\"CityPlan1.txt\")\n",
    "print(plan.isFullReachableFromSrc(3))"
   ]
  },
  {
   "cell_type": "code",
   "execution_count": 22,
   "id": "b47da771",
   "metadata": {},
   "outputs": [
    {
     "name": "stdout",
     "output_type": "stream",
     "text": [
      "[3, 2, 5, 7, 4, 2, 4, 7, 8]\n"
     ]
    }
   ],
   "source": [
    "plan = CityPlan()\n",
    "plan.readInput(\"CityPlan1.txt\")\n",
    "stops = [5,7,2]\n",
    "print(plan.fromSrcToDestVia(3,8,stops,1,0))"
   ]
  },
  {
   "cell_type": "code",
   "execution_count": 47,
   "id": "20929713",
   "metadata": {},
   "outputs": [
    {
     "name": "stdout",
     "output_type": "stream",
     "text": [
      "[0, 1, 2, 3, 4, 5, 6, 7, 8, 9, 10, 210]\n",
      "176851\n",
      "1\n"
     ]
    }
   ],
   "source": [
    "plan = CityPlan()\n",
    "plan.readInput(\"CityPlan4.txt\")\n",
    "print(plan.fromSrcToDest(0, 210, 1, 0))\n",
    "print(plan.noOfShortestPaths(0,700))\n",
    "print(plan.noOfShortestPaths(0,39998))"
   ]
  },
  {
   "cell_type": "code",
   "execution_count": null,
   "id": "475728be",
   "metadata": {},
   "outputs": [],
   "source": []
  }
 ],
 "metadata": {
  "kernelspec": {
   "display_name": "Python 3 (ipykernel)",
   "language": "python",
   "name": "python3"
  },
  "language_info": {
   "codemirror_mode": {
    "name": "ipython",
    "version": 3
   },
   "file_extension": ".py",
   "mimetype": "text/x-python",
   "name": "python",
   "nbconvert_exporter": "python",
   "pygments_lexer": "ipython3",
   "version": "3.9.7"
  }
 },
 "nbformat": 4,
 "nbformat_minor": 5
}
